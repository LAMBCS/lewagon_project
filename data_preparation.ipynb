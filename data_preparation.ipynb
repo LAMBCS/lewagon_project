{
 "cells": [
  {
   "cell_type": "markdown",
   "id": "74473630",
   "metadata": {},
   "source": [
    "### Join the gold prices together to have a consistent data set.\n",
    "### I could do this in Excel but wanted to try and do it in Pandas."
   ]
  },
  {
   "cell_type": "markdown",
   "id": "4c881a93",
   "metadata": {},
   "source": [
    "### GOLD PRICES"
   ]
  },
  {
   "cell_type": "markdown",
   "id": "085d6d61",
   "metadata": {},
   "source": [
    "### INCLUDES"
   ]
  },
  {
   "cell_type": "code",
   "execution_count": 2,
   "id": "f10dce29",
   "metadata": {},
   "outputs": [],
   "source": [
    "import pandas as pd"
   ]
  },
  {
   "cell_type": "code",
   "execution_count": 9,
   "id": "0e03c324",
   "metadata": {},
   "outputs": [],
   "source": [
    "first_gold_price = pd.read_csv(\"/Users/shogun/code/LAMBCS/lewagon_project/data/raw_data/daily_gold_rate.csv\", index_col=\"Date\")"
   ]
  },
  {
   "cell_type": "code",
   "execution_count": 10,
   "id": "37c63b0c",
   "metadata": {},
   "outputs": [
    {
     "data": {
      "text/html": [
       "<div>\n",
       "<style scoped>\n",
       "    .dataframe tbody tr th:only-of-type {\n",
       "        vertical-align: middle;\n",
       "    }\n",
       "\n",
       "    .dataframe tbody tr th {\n",
       "        vertical-align: top;\n",
       "    }\n",
       "\n",
       "    .dataframe thead th {\n",
       "        text-align: right;\n",
       "    }\n",
       "</style>\n",
       "<table border=\"1\" class=\"dataframe\">\n",
       "  <thead>\n",
       "    <tr style=\"text-align: right;\">\n",
       "      <th></th>\n",
       "      <th>USD</th>\n",
       "      <th>EUR</th>\n",
       "      <th>GBP</th>\n",
       "      <th>INR</th>\n",
       "      <th>AED</th>\n",
       "      <th>CNY</th>\n",
       "    </tr>\n",
       "    <tr>\n",
       "      <th>Date</th>\n",
       "      <th></th>\n",
       "      <th></th>\n",
       "      <th></th>\n",
       "      <th></th>\n",
       "      <th></th>\n",
       "      <th></th>\n",
       "    </tr>\n",
       "  </thead>\n",
       "  <tbody>\n",
       "    <tr>\n",
       "      <th>1985-01-01</th>\n",
       "      <td>308.30</td>\n",
       "      <td>402.45</td>\n",
       "      <td>266.01</td>\n",
       "      <td>3825.85</td>\n",
       "      <td>1134.42</td>\n",
       "      <td>NaN</td>\n",
       "    </tr>\n",
       "    <tr>\n",
       "      <th>1985-01-02</th>\n",
       "      <td>305.50</td>\n",
       "      <td>401.49</td>\n",
       "      <td>266.00</td>\n",
       "      <td>3787.05</td>\n",
       "      <td>1134.42</td>\n",
       "      <td>NaN</td>\n",
       "    </tr>\n",
       "    <tr>\n",
       "      <th>1985-01-03</th>\n",
       "      <td>302.30</td>\n",
       "      <td>397.08</td>\n",
       "      <td>262.76</td>\n",
       "      <td>3718.88</td>\n",
       "      <td>1107.67</td>\n",
       "      <td>NaN</td>\n",
       "    </tr>\n",
       "    <tr>\n",
       "      <th>1985-01-04</th>\n",
       "      <td>303.15</td>\n",
       "      <td>397.15</td>\n",
       "      <td>262.58</td>\n",
       "      <td>3759.64</td>\n",
       "      <td>1118.21</td>\n",
       "      <td>NaN</td>\n",
       "    </tr>\n",
       "    <tr>\n",
       "      <th>1985-01-07</th>\n",
       "      <td>298.25</td>\n",
       "      <td>392.55</td>\n",
       "      <td>261.17</td>\n",
       "      <td>3741.23</td>\n",
       "      <td>1091.58</td>\n",
       "      <td>835.8</td>\n",
       "    </tr>\n",
       "  </tbody>\n",
       "</table>\n",
       "</div>"
      ],
      "text/plain": [
       "               USD     EUR     GBP      INR      AED    CNY\n",
       "Date                                                       \n",
       "1985-01-01  308.30  402.45  266.01  3825.85  1134.42    NaN\n",
       "1985-01-02  305.50  401.49  266.00  3787.05  1134.42    NaN\n",
       "1985-01-03  302.30  397.08  262.76  3718.88  1107.67    NaN\n",
       "1985-01-04  303.15  397.15  262.58  3759.64  1118.21    NaN\n",
       "1985-01-07  298.25  392.55  261.17  3741.23  1091.58  835.8"
      ]
     },
     "execution_count": 10,
     "metadata": {},
     "output_type": "execute_result"
    }
   ],
   "source": [
    "first_gold_price.head()"
   ]
  },
  {
   "cell_type": "code",
   "execution_count": 13,
   "id": "7ede5485",
   "metadata": {},
   "outputs": [
    {
     "data": {
      "text/html": [
       "<div>\n",
       "<style scoped>\n",
       "    .dataframe tbody tr th:only-of-type {\n",
       "        vertical-align: middle;\n",
       "    }\n",
       "\n",
       "    .dataframe tbody tr th {\n",
       "        vertical-align: top;\n",
       "    }\n",
       "\n",
       "    .dataframe thead th {\n",
       "        text-align: right;\n",
       "    }\n",
       "</style>\n",
       "<table border=\"1\" class=\"dataframe\">\n",
       "  <thead>\n",
       "    <tr style=\"text-align: right;\">\n",
       "      <th></th>\n",
       "      <th>USD</th>\n",
       "      <th>EUR</th>\n",
       "      <th>GBP</th>\n",
       "      <th>INR</th>\n",
       "      <th>AED</th>\n",
       "      <th>CNY</th>\n",
       "    </tr>\n",
       "    <tr>\n",
       "      <th>Date</th>\n",
       "      <th></th>\n",
       "      <th></th>\n",
       "      <th></th>\n",
       "      <th></th>\n",
       "      <th></th>\n",
       "      <th></th>\n",
       "    </tr>\n",
       "  </thead>\n",
       "  <tbody>\n",
       "    <tr>\n",
       "      <th>2023-10-02</th>\n",
       "      <td>1833.05</td>\n",
       "      <td>1747.59</td>\n",
       "      <td>1513.92</td>\n",
       "      <td>152333.60</td>\n",
       "      <td>6732.79</td>\n",
       "      <td>13377.60</td>\n",
       "    </tr>\n",
       "    <tr>\n",
       "      <th>2023-10-03</th>\n",
       "      <td>1822.45</td>\n",
       "      <td>1741.97</td>\n",
       "      <td>1509.28</td>\n",
       "      <td>151684.52</td>\n",
       "      <td>6693.86</td>\n",
       "      <td>13300.24</td>\n",
       "    </tr>\n",
       "    <tr>\n",
       "      <th>2023-10-04</th>\n",
       "      <td>1818.95</td>\n",
       "      <td>1730.36</td>\n",
       "      <td>1496.83</td>\n",
       "      <td>151375.75</td>\n",
       "      <td>6680.82</td>\n",
       "      <td>13274.70</td>\n",
       "    </tr>\n",
       "    <tr>\n",
       "      <th>2023-10-05</th>\n",
       "      <td>1819.45</td>\n",
       "      <td>1726.89</td>\n",
       "      <td>1493.80</td>\n",
       "      <td>151431.00</td>\n",
       "      <td>6682.84</td>\n",
       "      <td>13278.35</td>\n",
       "    </tr>\n",
       "    <tr>\n",
       "      <th>2023-10-06</th>\n",
       "      <td>1819.60</td>\n",
       "      <td>1720.01</td>\n",
       "      <td>1487.33</td>\n",
       "      <td>151268.44</td>\n",
       "      <td>6683.39</td>\n",
       "      <td>13278.35</td>\n",
       "    </tr>\n",
       "  </tbody>\n",
       "</table>\n",
       "</div>"
      ],
      "text/plain": [
       "                USD      EUR      GBP        INR      AED       CNY\n",
       "Date                                                               \n",
       "2023-10-02  1833.05  1747.59  1513.92  152333.60  6732.79  13377.60\n",
       "2023-10-03  1822.45  1741.97  1509.28  151684.52  6693.86  13300.24\n",
       "2023-10-04  1818.95  1730.36  1496.83  151375.75  6680.82  13274.70\n",
       "2023-10-05  1819.45  1726.89  1493.80  151431.00  6682.84  13278.35\n",
       "2023-10-06  1819.60  1720.01  1487.33  151268.44  6683.39  13278.35"
      ]
     },
     "execution_count": 13,
     "metadata": {},
     "output_type": "execute_result"
    }
   ],
   "source": [
    "first_gold_price.tail()"
   ]
  },
  {
   "cell_type": "code",
   "execution_count": 11,
   "id": "09fe5344",
   "metadata": {},
   "outputs": [],
   "source": [
    "second_gold_price = pd.read_csv(\"/Users/shogun/code/LAMBCS/lewagon_project/data/raw_data/XAU_1d_data gold to 2025.csv\", sep=';', index_col='Date')"
   ]
  },
  {
   "cell_type": "code",
   "execution_count": 12,
   "id": "e5b6f120",
   "metadata": {},
   "outputs": [
    {
     "data": {
      "text/html": [
       "<div>\n",
       "<style scoped>\n",
       "    .dataframe tbody tr th:only-of-type {\n",
       "        vertical-align: middle;\n",
       "    }\n",
       "\n",
       "    .dataframe tbody tr th {\n",
       "        vertical-align: top;\n",
       "    }\n",
       "\n",
       "    .dataframe thead th {\n",
       "        text-align: right;\n",
       "    }\n",
       "</style>\n",
       "<table border=\"1\" class=\"dataframe\">\n",
       "  <thead>\n",
       "    <tr style=\"text-align: right;\">\n",
       "      <th></th>\n",
       "      <th>Open</th>\n",
       "      <th>High</th>\n",
       "      <th>Low</th>\n",
       "      <th>Close</th>\n",
       "      <th>Volume</th>\n",
       "    </tr>\n",
       "    <tr>\n",
       "      <th>Date</th>\n",
       "      <th></th>\n",
       "      <th></th>\n",
       "      <th></th>\n",
       "      <th></th>\n",
       "      <th></th>\n",
       "    </tr>\n",
       "  </thead>\n",
       "  <tbody>\n",
       "    <tr>\n",
       "      <th>2004.06.11 00:00</th>\n",
       "      <td>384.0</td>\n",
       "      <td>384.8</td>\n",
       "      <td>382.8</td>\n",
       "      <td>384.1</td>\n",
       "      <td>272</td>\n",
       "    </tr>\n",
       "    <tr>\n",
       "      <th>2004.06.14 00:00</th>\n",
       "      <td>384.3</td>\n",
       "      <td>385.8</td>\n",
       "      <td>381.8</td>\n",
       "      <td>382.8</td>\n",
       "      <td>1902</td>\n",
       "    </tr>\n",
       "    <tr>\n",
       "      <th>2004.06.15 00:00</th>\n",
       "      <td>382.8</td>\n",
       "      <td>388.8</td>\n",
       "      <td>381.1</td>\n",
       "      <td>388.6</td>\n",
       "      <td>1951</td>\n",
       "    </tr>\n",
       "    <tr>\n",
       "      <th>2004.06.16 00:00</th>\n",
       "      <td>387.1</td>\n",
       "      <td>389.8</td>\n",
       "      <td>382.6</td>\n",
       "      <td>383.8</td>\n",
       "      <td>2014</td>\n",
       "    </tr>\n",
       "    <tr>\n",
       "      <th>2004.06.17 00:00</th>\n",
       "      <td>383.6</td>\n",
       "      <td>389.3</td>\n",
       "      <td>383.0</td>\n",
       "      <td>387.6</td>\n",
       "      <td>1568</td>\n",
       "    </tr>\n",
       "  </tbody>\n",
       "</table>\n",
       "</div>"
      ],
      "text/plain": [
       "                   Open   High    Low  Close  Volume\n",
       "Date                                                \n",
       "2004.06.11 00:00  384.0  384.8  382.8  384.1     272\n",
       "2004.06.14 00:00  384.3  385.8  381.8  382.8    1902\n",
       "2004.06.15 00:00  382.8  388.8  381.1  388.6    1951\n",
       "2004.06.16 00:00  387.1  389.8  382.6  383.8    2014\n",
       "2004.06.17 00:00  383.6  389.3  383.0  387.6    1568"
      ]
     },
     "execution_count": 12,
     "metadata": {},
     "output_type": "execute_result"
    }
   ],
   "source": [
    "second_gold_price.head()"
   ]
  },
  {
   "cell_type": "code",
   "execution_count": 14,
   "id": "255e2d40",
   "metadata": {},
   "outputs": [
    {
     "data": {
      "text/html": [
       "<div>\n",
       "<style scoped>\n",
       "    .dataframe tbody tr th:only-of-type {\n",
       "        vertical-align: middle;\n",
       "    }\n",
       "\n",
       "    .dataframe tbody tr th {\n",
       "        vertical-align: top;\n",
       "    }\n",
       "\n",
       "    .dataframe thead th {\n",
       "        text-align: right;\n",
       "    }\n",
       "</style>\n",
       "<table border=\"1\" class=\"dataframe\">\n",
       "  <thead>\n",
       "    <tr style=\"text-align: right;\">\n",
       "      <th></th>\n",
       "      <th>Open</th>\n",
       "      <th>High</th>\n",
       "      <th>Low</th>\n",
       "      <th>Close</th>\n",
       "      <th>Volume</th>\n",
       "    </tr>\n",
       "    <tr>\n",
       "      <th>Date</th>\n",
       "      <th></th>\n",
       "      <th></th>\n",
       "      <th></th>\n",
       "      <th></th>\n",
       "      <th></th>\n",
       "    </tr>\n",
       "  </thead>\n",
       "  <tbody>\n",
       "    <tr>\n",
       "      <th>2025.07.09 00:00</th>\n",
       "      <td>3301.97</td>\n",
       "      <td>3316.75</td>\n",
       "      <td>3282.64</td>\n",
       "      <td>3313.34</td>\n",
       "      <td>606759</td>\n",
       "    </tr>\n",
       "    <tr>\n",
       "      <th>2025.07.10 00:00</th>\n",
       "      <td>3313.26</td>\n",
       "      <td>3330.22</td>\n",
       "      <td>3310.02</td>\n",
       "      <td>3323.63</td>\n",
       "      <td>534692</td>\n",
       "    </tr>\n",
       "    <tr>\n",
       "      <th>2025.07.11 00:00</th>\n",
       "      <td>3323.57</td>\n",
       "      <td>3368.65</td>\n",
       "      <td>3321.75</td>\n",
       "      <td>3355.58</td>\n",
       "      <td>836228</td>\n",
       "    </tr>\n",
       "    <tr>\n",
       "      <th>2025.07.14 00:00</th>\n",
       "      <td>3364.09</td>\n",
       "      <td>3374.98</td>\n",
       "      <td>3340.95</td>\n",
       "      <td>3342.94</td>\n",
       "      <td>781945</td>\n",
       "    </tr>\n",
       "    <tr>\n",
       "      <th>2025.07.15 00:00</th>\n",
       "      <td>3343.04</td>\n",
       "      <td>3366.25</td>\n",
       "      <td>3320.17</td>\n",
       "      <td>3327.27</td>\n",
       "      <td>545183</td>\n",
       "    </tr>\n",
       "  </tbody>\n",
       "</table>\n",
       "</div>"
      ],
      "text/plain": [
       "                     Open     High      Low    Close  Volume\n",
       "Date                                                        \n",
       "2025.07.09 00:00  3301.97  3316.75  3282.64  3313.34  606759\n",
       "2025.07.10 00:00  3313.26  3330.22  3310.02  3323.63  534692\n",
       "2025.07.11 00:00  3323.57  3368.65  3321.75  3355.58  836228\n",
       "2025.07.14 00:00  3364.09  3374.98  3340.95  3342.94  781945\n",
       "2025.07.15 00:00  3343.04  3366.25  3320.17  3327.27  545183"
      ]
     },
     "execution_count": 14,
     "metadata": {},
     "output_type": "execute_result"
    }
   ],
   "source": [
    "second_gold_price.tail()"
   ]
  },
  {
   "cell_type": "code",
   "execution_count": 17,
   "id": "bad38f1d",
   "metadata": {},
   "outputs": [
    {
     "data": {
      "text/plain": [
       "'string'"
      ]
     },
     "execution_count": 17,
     "metadata": {},
     "output_type": "execute_result"
    }
   ],
   "source": [
    "second_gold_price.index.inferred_type"
   ]
  },
  {
   "cell_type": "code",
   "execution_count": 18,
   "id": "f4387ecb",
   "metadata": {},
   "outputs": [
    {
     "data": {
      "text/plain": [
       "'string'"
      ]
     },
     "execution_count": 18,
     "metadata": {},
     "output_type": "execute_result"
    }
   ],
   "source": [
    "first_gold_price.index.inferred_type"
   ]
  },
  {
   "cell_type": "code",
   "execution_count": 20,
   "id": "e3e9885b",
   "metadata": {},
   "outputs": [],
   "source": [
    "first_gold_price.index = pd.to_datetime(first_gold_price.index)"
   ]
  },
  {
   "cell_type": "code",
   "execution_count": 22,
   "id": "e715cc2e",
   "metadata": {},
   "outputs": [],
   "source": [
    "second_gold_price.index = pd.to_datetime(second_gold_price.index)"
   ]
  },
  {
   "cell_type": "code",
   "execution_count": 21,
   "id": "90c9e9a3",
   "metadata": {},
   "outputs": [
    {
     "data": {
      "text/plain": [
       "'datetime64'"
      ]
     },
     "execution_count": 21,
     "metadata": {},
     "output_type": "execute_result"
    }
   ],
   "source": [
    "first_gold_price.index.inferred_type"
   ]
  },
  {
   "cell_type": "code",
   "execution_count": 23,
   "id": "1e243afd",
   "metadata": {},
   "outputs": [
    {
     "data": {
      "text/plain": [
       "'datetime64'"
      ]
     },
     "execution_count": 23,
     "metadata": {},
     "output_type": "execute_result"
    }
   ],
   "source": [
    "second_gold_price.index.inferred_type"
   ]
  },
  {
   "cell_type": "code",
   "execution_count": 24,
   "id": "ec57b8eb",
   "metadata": {},
   "outputs": [
    {
     "data": {
      "text/html": [
       "<div>\n",
       "<style scoped>\n",
       "    .dataframe tbody tr th:only-of-type {\n",
       "        vertical-align: middle;\n",
       "    }\n",
       "\n",
       "    .dataframe tbody tr th {\n",
       "        vertical-align: top;\n",
       "    }\n",
       "\n",
       "    .dataframe thead th {\n",
       "        text-align: right;\n",
       "    }\n",
       "</style>\n",
       "<table border=\"1\" class=\"dataframe\">\n",
       "  <thead>\n",
       "    <tr style=\"text-align: right;\">\n",
       "      <th></th>\n",
       "      <th>USD</th>\n",
       "      <th>EUR</th>\n",
       "      <th>GBP</th>\n",
       "      <th>INR</th>\n",
       "      <th>AED</th>\n",
       "      <th>CNY</th>\n",
       "    </tr>\n",
       "    <tr>\n",
       "      <th>Date</th>\n",
       "      <th></th>\n",
       "      <th></th>\n",
       "      <th></th>\n",
       "      <th></th>\n",
       "      <th></th>\n",
       "      <th></th>\n",
       "    </tr>\n",
       "  </thead>\n",
       "  <tbody>\n",
       "    <tr>\n",
       "      <th>1985-01-01</th>\n",
       "      <td>308.30</td>\n",
       "      <td>402.45</td>\n",
       "      <td>266.01</td>\n",
       "      <td>3825.85</td>\n",
       "      <td>1134.42</td>\n",
       "      <td>NaN</td>\n",
       "    </tr>\n",
       "    <tr>\n",
       "      <th>1985-01-02</th>\n",
       "      <td>305.50</td>\n",
       "      <td>401.49</td>\n",
       "      <td>266.00</td>\n",
       "      <td>3787.05</td>\n",
       "      <td>1134.42</td>\n",
       "      <td>NaN</td>\n",
       "    </tr>\n",
       "    <tr>\n",
       "      <th>1985-01-03</th>\n",
       "      <td>302.30</td>\n",
       "      <td>397.08</td>\n",
       "      <td>262.76</td>\n",
       "      <td>3718.88</td>\n",
       "      <td>1107.67</td>\n",
       "      <td>NaN</td>\n",
       "    </tr>\n",
       "    <tr>\n",
       "      <th>1985-01-04</th>\n",
       "      <td>303.15</td>\n",
       "      <td>397.15</td>\n",
       "      <td>262.58</td>\n",
       "      <td>3759.64</td>\n",
       "      <td>1118.21</td>\n",
       "      <td>NaN</td>\n",
       "    </tr>\n",
       "    <tr>\n",
       "      <th>1985-01-07</th>\n",
       "      <td>298.25</td>\n",
       "      <td>392.55</td>\n",
       "      <td>261.17</td>\n",
       "      <td>3741.23</td>\n",
       "      <td>1091.58</td>\n",
       "      <td>835.8</td>\n",
       "    </tr>\n",
       "  </tbody>\n",
       "</table>\n",
       "</div>"
      ],
      "text/plain": [
       "               USD     EUR     GBP      INR      AED    CNY\n",
       "Date                                                       \n",
       "1985-01-01  308.30  402.45  266.01  3825.85  1134.42    NaN\n",
       "1985-01-02  305.50  401.49  266.00  3787.05  1134.42    NaN\n",
       "1985-01-03  302.30  397.08  262.76  3718.88  1107.67    NaN\n",
       "1985-01-04  303.15  397.15  262.58  3759.64  1118.21    NaN\n",
       "1985-01-07  298.25  392.55  261.17  3741.23  1091.58  835.8"
      ]
     },
     "execution_count": 24,
     "metadata": {},
     "output_type": "execute_result"
    }
   ],
   "source": [
    "first_gold_price.head()"
   ]
  },
  {
   "cell_type": "code",
   "execution_count": 25,
   "id": "26ca90f2",
   "metadata": {},
   "outputs": [
    {
     "data": {
      "text/html": [
       "<div>\n",
       "<style scoped>\n",
       "    .dataframe tbody tr th:only-of-type {\n",
       "        vertical-align: middle;\n",
       "    }\n",
       "\n",
       "    .dataframe tbody tr th {\n",
       "        vertical-align: top;\n",
       "    }\n",
       "\n",
       "    .dataframe thead th {\n",
       "        text-align: right;\n",
       "    }\n",
       "</style>\n",
       "<table border=\"1\" class=\"dataframe\">\n",
       "  <thead>\n",
       "    <tr style=\"text-align: right;\">\n",
       "      <th></th>\n",
       "      <th>Open</th>\n",
       "      <th>High</th>\n",
       "      <th>Low</th>\n",
       "      <th>Close</th>\n",
       "      <th>Volume</th>\n",
       "    </tr>\n",
       "    <tr>\n",
       "      <th>Date</th>\n",
       "      <th></th>\n",
       "      <th></th>\n",
       "      <th></th>\n",
       "      <th></th>\n",
       "      <th></th>\n",
       "    </tr>\n",
       "  </thead>\n",
       "  <tbody>\n",
       "    <tr>\n",
       "      <th>2004-06-11</th>\n",
       "      <td>384.0</td>\n",
       "      <td>384.8</td>\n",
       "      <td>382.8</td>\n",
       "      <td>384.1</td>\n",
       "      <td>272</td>\n",
       "    </tr>\n",
       "    <tr>\n",
       "      <th>2004-06-14</th>\n",
       "      <td>384.3</td>\n",
       "      <td>385.8</td>\n",
       "      <td>381.8</td>\n",
       "      <td>382.8</td>\n",
       "      <td>1902</td>\n",
       "    </tr>\n",
       "    <tr>\n",
       "      <th>2004-06-15</th>\n",
       "      <td>382.8</td>\n",
       "      <td>388.8</td>\n",
       "      <td>381.1</td>\n",
       "      <td>388.6</td>\n",
       "      <td>1951</td>\n",
       "    </tr>\n",
       "    <tr>\n",
       "      <th>2004-06-16</th>\n",
       "      <td>387.1</td>\n",
       "      <td>389.8</td>\n",
       "      <td>382.6</td>\n",
       "      <td>383.8</td>\n",
       "      <td>2014</td>\n",
       "    </tr>\n",
       "    <tr>\n",
       "      <th>2004-06-17</th>\n",
       "      <td>383.6</td>\n",
       "      <td>389.3</td>\n",
       "      <td>383.0</td>\n",
       "      <td>387.6</td>\n",
       "      <td>1568</td>\n",
       "    </tr>\n",
       "  </tbody>\n",
       "</table>\n",
       "</div>"
      ],
      "text/plain": [
       "             Open   High    Low  Close  Volume\n",
       "Date                                          \n",
       "2004-06-11  384.0  384.8  382.8  384.1     272\n",
       "2004-06-14  384.3  385.8  381.8  382.8    1902\n",
       "2004-06-15  382.8  388.8  381.1  388.6    1951\n",
       "2004-06-16  387.1  389.8  382.6  383.8    2014\n",
       "2004-06-17  383.6  389.3  383.0  387.6    1568"
      ]
     },
     "execution_count": 25,
     "metadata": {},
     "output_type": "execute_result"
    }
   ],
   "source": [
    "second_gold_price.head()"
   ]
  },
  {
   "cell_type": "code",
   "execution_count": 34,
   "id": "2474bc27",
   "metadata": {},
   "outputs": [
    {
     "data": {
      "text/plain": [
       "Date\n",
       "1985-01-01    308.30\n",
       "1985-01-02    305.50\n",
       "1985-01-03    302.30\n",
       "1985-01-04    303.15\n",
       "1985-01-07    298.25\n",
       "               ...  \n",
       "2004-06-04    388.30\n",
       "2004-06-07    393.60\n",
       "2004-06-08    392.35\n",
       "2004-06-09    386.85\n",
       "2004-06-10    384.95\n",
       "Name: USD, Length: 5073, dtype: float64"
      ]
     },
     "execution_count": 34,
     "metadata": {},
     "output_type": "execute_result"
    }
   ],
   "source": [
    "first_gold_price.query(\"Date < '2004-06-11'\")['USD']"
   ]
  },
  {
   "cell_type": "code",
   "execution_count": 35,
   "id": "77432e5e",
   "metadata": {},
   "outputs": [
    {
     "data": {
      "text/plain": [
       "Date\n",
       "2004-06-11     384.10\n",
       "2004-06-14     382.80\n",
       "2004-06-15     388.60\n",
       "2004-06-16     383.80\n",
       "2004-06-17     387.60\n",
       "               ...   \n",
       "2025-07-09    3313.34\n",
       "2025-07-10    3323.63\n",
       "2025-07-11    3355.58\n",
       "2025-07-14    3342.94\n",
       "2025-07-15    3327.27\n",
       "Name: Close, Length: 5418, dtype: float64"
      ]
     },
     "execution_count": 35,
     "metadata": {},
     "output_type": "execute_result"
    }
   ],
   "source": [
    "second_gold_price.query(\"Date >= '2004-06-11'\")[\"Close\"]"
   ]
  },
  {
   "cell_type": "code",
   "execution_count": 37,
   "id": "ff63a538",
   "metadata": {},
   "outputs": [],
   "source": [
    "gold_price_data = pd.concat([first_gold_price.query(\"Date < '2004-06-11'\")['USD'], second_gold_price.query(\"Date >= '2004-06-11'\")[\"Close\"]], axis=0)"
   ]
  },
  {
   "cell_type": "code",
   "execution_count": 38,
   "id": "13178aa7",
   "metadata": {},
   "outputs": [
    {
     "data": {
      "text/plain": [
       "Date\n",
       "1985-01-01    308.30\n",
       "1985-01-02    305.50\n",
       "1985-01-03    302.30\n",
       "1985-01-04    303.15\n",
       "1985-01-07    298.25\n",
       "dtype: float64"
      ]
     },
     "execution_count": 38,
     "metadata": {},
     "output_type": "execute_result"
    }
   ],
   "source": [
    "gold_price_data.head()"
   ]
  },
  {
   "cell_type": "code",
   "execution_count": 46,
   "id": "8172ac13",
   "metadata": {},
   "outputs": [],
   "source": [
    "gold_price_data_df = pd.DataFrame(gold_price_data, columns=['Close'])"
   ]
  },
  {
   "cell_type": "code",
   "execution_count": 51,
   "id": "b7637d82",
   "metadata": {},
   "outputs": [
    {
     "data": {
      "text/html": [
       "<div>\n",
       "<style scoped>\n",
       "    .dataframe tbody tr th:only-of-type {\n",
       "        vertical-align: middle;\n",
       "    }\n",
       "\n",
       "    .dataframe tbody tr th {\n",
       "        vertical-align: top;\n",
       "    }\n",
       "\n",
       "    .dataframe thead th {\n",
       "        text-align: right;\n",
       "    }\n",
       "</style>\n",
       "<table border=\"1\" class=\"dataframe\">\n",
       "  <thead>\n",
       "    <tr style=\"text-align: right;\">\n",
       "      <th></th>\n",
       "      <th>Close</th>\n",
       "    </tr>\n",
       "    <tr>\n",
       "      <th>Date</th>\n",
       "      <th></th>\n",
       "    </tr>\n",
       "  </thead>\n",
       "  <tbody>\n",
       "    <tr>\n",
       "      <th>2025-07-09</th>\n",
       "      <td>3313.34</td>\n",
       "    </tr>\n",
       "    <tr>\n",
       "      <th>2025-07-10</th>\n",
       "      <td>3323.63</td>\n",
       "    </tr>\n",
       "    <tr>\n",
       "      <th>2025-07-11</th>\n",
       "      <td>3355.58</td>\n",
       "    </tr>\n",
       "    <tr>\n",
       "      <th>2025-07-14</th>\n",
       "      <td>3342.94</td>\n",
       "    </tr>\n",
       "    <tr>\n",
       "      <th>2025-07-15</th>\n",
       "      <td>3327.27</td>\n",
       "    </tr>\n",
       "  </tbody>\n",
       "</table>\n",
       "</div>"
      ],
      "text/plain": [
       "              Close\n",
       "Date               \n",
       "2025-07-09  3313.34\n",
       "2025-07-10  3323.63\n",
       "2025-07-11  3355.58\n",
       "2025-07-14  3342.94\n",
       "2025-07-15  3327.27"
      ]
     },
     "execution_count": 51,
     "metadata": {},
     "output_type": "execute_result"
    }
   ],
   "source": [
    "gold_price_data_df.tail()"
   ]
  },
  {
   "cell_type": "code",
   "execution_count": 50,
   "id": "7e8d0b0c",
   "metadata": {},
   "outputs": [
    {
     "data": {
      "text/plain": [
       "'datetime64'"
      ]
     },
     "execution_count": 50,
     "metadata": {},
     "output_type": "execute_result"
    }
   ],
   "source": [
    "gold_price_data_df.index.inferred_type"
   ]
  },
  {
   "cell_type": "code",
   "execution_count": 52,
   "id": "a2886233",
   "metadata": {},
   "outputs": [],
   "source": [
    "gold_price_data_df.to_csv(\"/Users/shogun/code/LAMBCS/lewagon_project/data/hostorical_gold_price_1985-01-07_2025_07_15\")"
   ]
  }
 ],
 "metadata": {
  "kernelspec": {
   "display_name": "lewagon",
   "language": "python",
   "name": "python3"
  },
  "language_info": {
   "codemirror_mode": {
    "name": "ipython",
    "version": 3
   },
   "file_extension": ".py",
   "mimetype": "text/x-python",
   "name": "python",
   "nbconvert_exporter": "python",
   "pygments_lexer": "ipython3",
   "version": "3.12.9"
  }
 },
 "nbformat": 4,
 "nbformat_minor": 5
}
